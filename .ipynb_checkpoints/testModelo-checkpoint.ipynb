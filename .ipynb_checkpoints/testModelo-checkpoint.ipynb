{
 "cells": [
  {
   "cell_type": "code",
   "execution_count": 1,
   "id": "c62a26a3",
   "metadata": {},
   "outputs": [],
   "source": [
    "import docplex.cp\n",
    "from docplex.cp.model import *\n",
    "import docplex.mp\n",
    "import cplex\n",
    "from docplex.mp.model import Model\n"
   ]
  },
  {
   "cell_type": "code",
   "execution_count": 2,
   "id": "e6351ab5",
   "metadata": {},
   "outputs": [],
   "source": [
    "\n",
    "mdl = Model(name=\"modelo1\")\n"
   ]
  },
  {
   "cell_type": "code",
   "execution_count": 3,
   "id": "0123b2d1",
   "metadata": {},
   "outputs": [],
   "source": [
    "x1 = mdl.continuous_var(name=\"x1\")\n",
    "x2 = mdl.continuous_var(lb= 0, ub= 100, name=\"x2\")\n",
    "x3 = mdl.continuous_var(name=\"x3\")\n",
    "x4 = mdl.integer_var(name=\"x4\")"
   ]
  },
  {
   "cell_type": "code",
   "execution_count": 19,
   "id": "0a24908d",
   "metadata": {},
   "outputs": [],
   "source": [
    "listaP = [1,2,3,4,5]\n",
    "listaK = [1,2,3,4,5,6,7,8]"
   ]
  },
  {
   "cell_type": "code",
   "execution_count": 5,
   "id": "f872a93b",
   "metadata": {},
   "outputs": [],
   "source": [
    "binarias = mdl.binary_var_list(listaP, lb=None, ub=None, key_format=None)"
   ]
  },
  {
   "cell_type": "code",
   "execution_count": 20,
   "id": "f5da9f22",
   "metadata": {},
   "outputs": [],
   "source": [
    "enteras = mdl.continuous_var_matrix(listaP, listaK, key_format=None)"
   ]
  },
  {
   "cell_type": "code",
   "execution_count": 21,
   "id": "1c2c7541",
   "metadata": {},
   "outputs": [],
   "source": [
    "enteras2 = mdl.integer_var_matrix(listaP, listaK, key_format=None)"
   ]
  },
  {
   "cell_type": "code",
   "execution_count": 6,
   "id": "60d7dc17",
   "metadata": {},
   "outputs": [],
   "source": [
    "mdl.add_constraint_(binarias[4]==1)"
   ]
  },
  {
   "cell_type": "code",
   "execution_count": 7,
   "id": "4d2fc3b0",
   "metadata": {},
   "outputs": [],
   "source": [
    "mdl.add_constraint_(x1 + x2 + x3 + x4<= 3204.12)\n",
    "mdl.add_constraint_(3*x1 + 2*x2 <= 2400.567)\n",
    "mdl.add_constraint_(2*x1 - 4*x2 <= 6700.2)\n",
    "mdl.add_constraint_(x2 <= x1)\n",
    "mdl.add_constraint_(0 <= x1)\n",
    "mdl.add_constraint_(5.14 <= x2)\n",
    "mdl.add_constraint_(0.56 <= x3)\n",
    "mdl.add_constraint_(0 <= x4)\n",
    "mdl.add_constraint_((x1 + x4) <= (x2 + x3)*2.721)\n",
    "s = x1 + x2 + x3 + 5\n",
    "mdl.add_constraint_(s <= x4)"
   ]
  },
  {
   "cell_type": "code",
   "execution_count": 8,
   "id": "00f071f6",
   "metadata": {},
   "outputs": [],
   "source": [
    "mdl.maximize(x1)"
   ]
  },
  {
   "cell_type": "code",
   "execution_count": 9,
   "id": "d7d0eb7a",
   "metadata": {},
   "outputs": [],
   "source": [
    "msol = mdl.solve()"
   ]
  },
  {
   "cell_type": "code",
   "execution_count": 15,
   "id": "675c38ee",
   "metadata": {},
   "outputs": [
    {
     "data": {
      "text/plain": [
       "0"
      ]
     },
     "execution_count": 15,
     "metadata": {},
     "output_type": "execute_result"
    }
   ],
   "source": [
    "msol.get_value(binarias[0])"
   ]
  }
 ],
 "metadata": {
  "kernelspec": {
   "display_name": "Python 3 (ipykernel)",
   "language": "python",
   "name": "python3"
  },
  "language_info": {
   "codemirror_mode": {
    "name": "ipython",
    "version": 3
   },
   "file_extension": ".py",
   "mimetype": "text/x-python",
   "name": "python",
   "nbconvert_exporter": "python",
   "pygments_lexer": "ipython3",
   "version": "3.9.13"
  }
 },
 "nbformat": 4,
 "nbformat_minor": 5
}
