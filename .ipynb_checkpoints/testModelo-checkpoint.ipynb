{
 "cells": [
  {
   "cell_type": "code",
   "execution_count": 22,
   "metadata": {},
   "outputs": [],
   "source": [
    "import docplex.cp\n",
    "from docplex.cp.model import *\n",
    "import docplex.mp\n",
    "import cplex\n",
    "from docplex.mp.model import Model\n"
   ]
  },
  {
   "cell_type": "code",
   "execution_count": 40,
   "metadata": {},
   "outputs": [],
   "source": [
    "mdl = CpoModel(name=\"modelo1\")"
   ]
  },
  {
   "cell_type": "code",
   "execution_count": 41,
   "metadata": {},
   "outputs": [],
   "source": [
    "x1 = integer_var(name=\"x1\")\n",
    "x2 = integer_var(name=\"x2\")\n",
    "x3 = integer_var(name=\"x3\")\n",
    "x4 = integer_var(name=\"x4\")"
   ]
  },
  {
   "cell_type": "code",
   "execution_count": 42,
   "metadata": {},
   "outputs": [],
   "source": [
    "mdl.add(x1 + x2 + x3 + x4<= 1000)\n",
    "mdl.add(3*x1 + 2*x2 <= 2000)\n",
    "mdl.add(2*x1 - 4*x2 <= 1500)\n",
    "mdl.add(x2 <= x1)\n",
    "mdl.add(0 <= x1)\n",
    "mdl.add(5 <= x2)\n",
    "mdl.add(0 <= x3)\n",
    "mdl.add(0 <= x4)\n",
    "mdl.add((x1 + x4) <= (x2 + x3)*2)\n",
    "s = x1 + x2 + x3 + 5\n",
    "mdl.add(s <= x4)"
   ]
  },
  {
   "cell_type": "code",
   "execution_count": 43,
   "metadata": {},
   "outputs": [],
   "source": [
    "mdl.add(maximize(x1))"
   ]
  },
  {
   "cell_type": "code",
   "execution_count": 44,
   "metadata": {},
   "outputs": [
    {
     "name": "stdout",
     "output_type": "stream",
     "text": [
      " ! --------------------------------------------------- CP Optimizer 22.1.0.0 --\n",
      " ! Maximization problem - 4 variables, 10 constraints\n",
      " ! Initial process time : 0.01s (0.01s extraction + 0.00s propagation)\n",
      " !  . Log search space  : 38.6 (before), 38.6 (after)\n",
      " !  . Memory usage      : 267.4 kB (before), 267.4 kB (after)\n",
      " ! Using parallel search with 4 workers.\n",
      " ! ----------------------------------------------------------------------------\n",
      " !          Best Branches  Non-fixed    W       Branch decision\n",
      "                        0          4                 -\n",
      " + New bound is 663\n",
      "                        0          4    1   F        -\n",
      " + New bound is 326\n",
      "                        0          4    1   F        -\n",
      " + New bound is 325\n",
      " *             5        2  0.05s        1      (gap is 6400%)\n",
      " *           137       16  0.05s        1      (gap is 137.2%)\n",
      " *           138      355  0.06s        3      (gap is 135.5%)\n",
      " *           158      388  0.06s        3      (gap is 105.7%)\n",
      " *           159      410  0.06s        3      (gap is 104.4%)\n",
      " *           160      433  0.06s        3      (gap is 103.1%)\n",
      " *           162      647  0.06s        3      (gap is 100.6%)\n",
      " *           163      675  0.06s        3      (gap is 99.39%)\n",
      " *           164      782  0.06s        3      (gap is 98.17%)\n",
      "             164     1000          1    3       350 != x3\n",
      "             164     2000          4    3        21 != x2\n",
      "             164     3000          4    3   F    36  = x2\n",
      "             164     1000          1    1       688 != x4\n",
      "             164     1000          1    2   F   679  = x4\n",
      "             164     1000          1    4   F   688  = x4\n",
      "             164     4000          4    3        19 != x2\n",
      "             164     5000          4    3         6 != x2\n",
      " ! Time = 0.22s, Average fail depth = 7, Memory usage = 3.1 MB\n",
      " ! Current bound is 325 (gap is 98.17%)\n",
      " !          Best Branches  Non-fixed    W       Branch decision\n",
      "             164     6000          4    3            -\n",
      "             164     7000          4    3       515 != x2\n",
      "             164     2000          1    1   F   520  = x4\n",
      "             164     2087          4    1            -\n",
      " + New bound is 164 (gap is 0.00%)\n",
      " ! ----------------------------------------------------------------------------\n",
      " ! Search completed, 9 solutions found.\n",
      " ! Best objective         : 164 (optimal - effective tol. is 0)\n",
      " ! Best bound             : 164\n",
      " ! ----------------------------------------------------------------------------\n",
      " ! Number of branches     : 13966\n",
      " ! Number of fails        : 7018\n",
      " ! Total memory usage     : 3.4 MB (3.3 MB CP Optimizer + 0.0 MB Concert)\n",
      " ! Time spent in solve    : 0.28s (0.27s engine + 0.01s extraction)\n",
      " ! Search speed (br. / s) : 52307.1\n",
      " ! ----------------------------------------------------------------------------\n"
     ]
    }
   ],
   "source": [
    "msol = mdl.solve()"
   ]
  },
  {
   "cell_type": "code",
   "execution_count": 45,
   "metadata": {},
   "outputs": [
    {
     "data": {
      "text/plain": [
       "164"
      ]
     },
     "execution_count": 45,
     "metadata": {},
     "output_type": "execute_result"
    }
   ],
   "source": [
    "msol.get_value(x1)"
   ]
  }
 ],
 "metadata": {
  "kernelspec": {
   "display_name": "Python 3",
   "language": "python",
   "name": "python3"
  },
  "language_info": {
   "codemirror_mode": {
    "name": "ipython",
    "version": 3
   },
   "file_extension": ".py",
   "mimetype": "text/x-python",
   "name": "python",
   "nbconvert_exporter": "python",
   "pygments_lexer": "ipython3",
   "version": "3.7.3"
  }
 },
 "nbformat": 4,
 "nbformat_minor": 5
}
