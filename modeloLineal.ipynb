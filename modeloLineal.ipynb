{
 "cells": [
  {
   "cell_type": "markdown",
   "metadata": {},
   "source": [
    "Importamos librerias"
   ]
  },
  {
   "cell_type": "code",
   "execution_count": 381,
   "metadata": {},
   "outputs": [],
   "source": [
    "import numpy as np\n",
    "import pandas as pd\n"
   ]
  },
  {
   "cell_type": "code",
   "execution_count": 382,
   "metadata": {},
   "outputs": [],
   "source": [
    "import sys\n",
    "try:\n",
    "    import cplex\n",
    "except:\n",
    "    if hasattr(sys, 'real_prefix'):\n",
    "        #we are in a virtual env.\n",
    "        !pip install cplex\n",
    "    else:\n",
    "        !pip install --user cplex"
   ]
  },
  {
   "cell_type": "code",
   "execution_count": 383,
   "metadata": {},
   "outputs": [],
   "source": [
    "import sys\n",
    "try:\n",
    "    import docplex.mp\n",
    "except:\n",
    "    if hasattr(sys, 'real_prefix'):\n",
    "        #we are in a virtual env.\n",
    "        !pip install docplex\n",
    "    else:\n",
    "        !pip install --user docplex"
   ]
  },
  {
   "cell_type": "code",
   "execution_count": 384,
   "metadata": {},
   "outputs": [],
   "source": [
    "import docplex.cp\n",
    "from docplex.cp.model import *\n"
   ]
  },
  {
   "cell_type": "markdown",
   "metadata": {},
   "source": [
    "Visualizamos los dataframes con los parametros y los productos"
   ]
  },
  {
   "cell_type": "code",
   "execution_count": 385,
   "metadata": {},
   "outputs": [],
   "source": [
    "dfproductos = pd.read_csv(\"productos.csv\")"
   ]
  },
  {
   "cell_type": "code",
   "execution_count": 386,
   "metadata": {},
   "outputs": [
    {
     "data": {
      "text/html": [
       "<div>\n",
       "<style scoped>\n",
       "    .dataframe tbody tr th:only-of-type {\n",
       "        vertical-align: middle;\n",
       "    }\n",
       "\n",
       "    .dataframe tbody tr th {\n",
       "        vertical-align: top;\n",
       "    }\n",
       "\n",
       "    .dataframe thead th {\n",
       "        text-align: right;\n",
       "    }\n",
       "</style>\n",
       "<table border=\"1\" class=\"dataframe\">\n",
       "  <thead>\n",
       "    <tr style=\"text-align: right;\">\n",
       "      <th></th>\n",
       "      <th>Unnamed: 0</th>\n",
       "      <th>idprod</th>\n",
       "      <th>stockInicial</th>\n",
       "      <th>demandaMensual</th>\n",
       "      <th>precioUSD</th>\n",
       "      <th>pedidoMinimo</th>\n",
       "      <th>provedorID</th>\n",
       "    </tr>\n",
       "  </thead>\n",
       "  <tbody>\n",
       "    <tr>\n",
       "      <th>0</th>\n",
       "      <td>0</td>\n",
       "      <td>1.0</td>\n",
       "      <td>371.0</td>\n",
       "      <td>39.0</td>\n",
       "      <td>615.0</td>\n",
       "      <td>553.0</td>\n",
       "      <td>4.0</td>\n",
       "    </tr>\n",
       "    <tr>\n",
       "      <th>1</th>\n",
       "      <td>0</td>\n",
       "      <td>2.0</td>\n",
       "      <td>324.0</td>\n",
       "      <td>39.0</td>\n",
       "      <td>775.0</td>\n",
       "      <td>282.0</td>\n",
       "      <td>3.0</td>\n",
       "    </tr>\n",
       "    <tr>\n",
       "      <th>2</th>\n",
       "      <td>0</td>\n",
       "      <td>3.0</td>\n",
       "      <td>372.0</td>\n",
       "      <td>34.0</td>\n",
       "      <td>738.0</td>\n",
       "      <td>458.0</td>\n",
       "      <td>2.0</td>\n",
       "    </tr>\n",
       "    <tr>\n",
       "      <th>3</th>\n",
       "      <td>0</td>\n",
       "      <td>4.0</td>\n",
       "      <td>285.0</td>\n",
       "      <td>34.0</td>\n",
       "      <td>735.0</td>\n",
       "      <td>328.0</td>\n",
       "      <td>2.0</td>\n",
       "    </tr>\n",
       "    <tr>\n",
       "      <th>4</th>\n",
       "      <td>0</td>\n",
       "      <td>5.0</td>\n",
       "      <td>398.0</td>\n",
       "      <td>39.0</td>\n",
       "      <td>360.0</td>\n",
       "      <td>830.0</td>\n",
       "      <td>4.0</td>\n",
       "    </tr>\n",
       "    <tr>\n",
       "      <th>5</th>\n",
       "      <td>0</td>\n",
       "      <td>6.0</td>\n",
       "      <td>386.0</td>\n",
       "      <td>33.0</td>\n",
       "      <td>447.0</td>\n",
       "      <td>230.0</td>\n",
       "      <td>4.0</td>\n",
       "    </tr>\n",
       "    <tr>\n",
       "      <th>6</th>\n",
       "      <td>0</td>\n",
       "      <td>7.0</td>\n",
       "      <td>246.0</td>\n",
       "      <td>33.0</td>\n",
       "      <td>252.0</td>\n",
       "      <td>732.0</td>\n",
       "      <td>3.0</td>\n",
       "    </tr>\n",
       "    <tr>\n",
       "      <th>7</th>\n",
       "      <td>0</td>\n",
       "      <td>8.0</td>\n",
       "      <td>274.0</td>\n",
       "      <td>34.0</td>\n",
       "      <td>408.0</td>\n",
       "      <td>342.0</td>\n",
       "      <td>4.0</td>\n",
       "    </tr>\n",
       "    <tr>\n",
       "      <th>8</th>\n",
       "      <td>0</td>\n",
       "      <td>9.0</td>\n",
       "      <td>340.0</td>\n",
       "      <td>46.0</td>\n",
       "      <td>166.0</td>\n",
       "      <td>408.0</td>\n",
       "      <td>1.0</td>\n",
       "    </tr>\n",
       "    <tr>\n",
       "      <th>9</th>\n",
       "      <td>0</td>\n",
       "      <td>10.0</td>\n",
       "      <td>322.0</td>\n",
       "      <td>50.0</td>\n",
       "      <td>33.0</td>\n",
       "      <td>731.0</td>\n",
       "      <td>4.0</td>\n",
       "    </tr>\n",
       "    <tr>\n",
       "      <th>10</th>\n",
       "      <td>0</td>\n",
       "      <td>11.0</td>\n",
       "      <td>282.0</td>\n",
       "      <td>34.0</td>\n",
       "      <td>259.0</td>\n",
       "      <td>649.0</td>\n",
       "      <td>1.0</td>\n",
       "    </tr>\n",
       "    <tr>\n",
       "      <th>11</th>\n",
       "      <td>0</td>\n",
       "      <td>12.0</td>\n",
       "      <td>349.0</td>\n",
       "      <td>49.0</td>\n",
       "      <td>519.0</td>\n",
       "      <td>922.0</td>\n",
       "      <td>1.0</td>\n",
       "    </tr>\n",
       "  </tbody>\n",
       "</table>\n",
       "</div>"
      ],
      "text/plain": [
       "    Unnamed: 0  idprod  stockInicial  demandaMensual  precioUSD  pedidoMinimo  \\\n",
       "0            0     1.0         371.0            39.0      615.0         553.0   \n",
       "1            0     2.0         324.0            39.0      775.0         282.0   \n",
       "2            0     3.0         372.0            34.0      738.0         458.0   \n",
       "3            0     4.0         285.0            34.0      735.0         328.0   \n",
       "4            0     5.0         398.0            39.0      360.0         830.0   \n",
       "5            0     6.0         386.0            33.0      447.0         230.0   \n",
       "6            0     7.0         246.0            33.0      252.0         732.0   \n",
       "7            0     8.0         274.0            34.0      408.0         342.0   \n",
       "8            0     9.0         340.0            46.0      166.0         408.0   \n",
       "9            0    10.0         322.0            50.0       33.0         731.0   \n",
       "10           0    11.0         282.0            34.0      259.0         649.0   \n",
       "11           0    12.0         349.0            49.0      519.0         922.0   \n",
       "\n",
       "    provedorID  \n",
       "0          4.0  \n",
       "1          3.0  \n",
       "2          2.0  \n",
       "3          2.0  \n",
       "4          4.0  \n",
       "5          4.0  \n",
       "6          3.0  \n",
       "7          4.0  \n",
       "8          1.0  \n",
       "9          4.0  \n",
       "10         1.0  \n",
       "11         1.0  "
      ]
     },
     "execution_count": 386,
     "metadata": {},
     "output_type": "execute_result"
    }
   ],
   "source": [
    "dfproductos"
   ]
  },
  {
   "cell_type": "code",
   "execution_count": 387,
   "metadata": {},
   "outputs": [
    {
     "data": {
      "text/plain": [
       "39.0"
      ]
     },
     "execution_count": 387,
     "metadata": {},
     "output_type": "execute_result"
    }
   ],
   "source": [
    "dfproductos[\"demandaMensual\"][1]"
   ]
  },
  {
   "cell_type": "code",
   "execution_count": 388,
   "metadata": {},
   "outputs": [],
   "source": [
    "dfProvedores = pd.read_csv(\"provedores.csv\")"
   ]
  },
  {
   "cell_type": "code",
   "execution_count": 389,
   "metadata": {},
   "outputs": [
    {
     "data": {
      "text/html": [
       "<div>\n",
       "<style scoped>\n",
       "    .dataframe tbody tr th:only-of-type {\n",
       "        vertical-align: middle;\n",
       "    }\n",
       "\n",
       "    .dataframe tbody tr th {\n",
       "        vertical-align: top;\n",
       "    }\n",
       "\n",
       "    .dataframe thead th {\n",
       "        text-align: right;\n",
       "    }\n",
       "</style>\n",
       "<table border=\"1\" class=\"dataframe\">\n",
       "  <thead>\n",
       "    <tr style=\"text-align: right;\">\n",
       "      <th></th>\n",
       "      <th>Unnamed: 0</th>\n",
       "      <th>provedorID</th>\n",
       "      <th>minimoMontoPedido</th>\n",
       "      <th>puertoEnvio</th>\n",
       "    </tr>\n",
       "  </thead>\n",
       "  <tbody>\n",
       "    <tr>\n",
       "      <th>0</th>\n",
       "      <td>0</td>\n",
       "      <td>1.0</td>\n",
       "      <td>10313.0</td>\n",
       "      <td>1.0</td>\n",
       "    </tr>\n",
       "    <tr>\n",
       "      <th>1</th>\n",
       "      <td>0</td>\n",
       "      <td>2.0</td>\n",
       "      <td>10410.0</td>\n",
       "      <td>3.0</td>\n",
       "    </tr>\n",
       "    <tr>\n",
       "      <th>2</th>\n",
       "      <td>0</td>\n",
       "      <td>3.0</td>\n",
       "      <td>8884.0</td>\n",
       "      <td>2.0</td>\n",
       "    </tr>\n",
       "    <tr>\n",
       "      <th>3</th>\n",
       "      <td>0</td>\n",
       "      <td>4.0</td>\n",
       "      <td>9197.0</td>\n",
       "      <td>1.0</td>\n",
       "    </tr>\n",
       "  </tbody>\n",
       "</table>\n",
       "</div>"
      ],
      "text/plain": [
       "   Unnamed: 0  provedorID  minimoMontoPedido  puertoEnvio\n",
       "0           0         1.0            10313.0          1.0\n",
       "1           0         2.0            10410.0          3.0\n",
       "2           0         3.0             8884.0          2.0\n",
       "3           0         4.0             9197.0          1.0"
      ]
     },
     "execution_count": 389,
     "metadata": {},
     "output_type": "execute_result"
    }
   ],
   "source": [
    "dfProvedores"
   ]
  },
  {
   "cell_type": "code",
   "execution_count": 390,
   "metadata": {},
   "outputs": [],
   "source": [
    "dfGeneral = pd.read_csv(\"parametrosGenerales.csv\")"
   ]
  },
  {
   "cell_type": "code",
   "execution_count": 391,
   "metadata": {},
   "outputs": [
    {
     "data": {
      "text/html": [
       "<div>\n",
       "<style scoped>\n",
       "    .dataframe tbody tr th:only-of-type {\n",
       "        vertical-align: middle;\n",
       "    }\n",
       "\n",
       "    .dataframe tbody tr th {\n",
       "        vertical-align: top;\n",
       "    }\n",
       "\n",
       "    .dataframe thead th {\n",
       "        text-align: right;\n",
       "    }\n",
       "</style>\n",
       "<table border=\"1\" class=\"dataframe\">\n",
       "  <thead>\n",
       "    <tr style=\"text-align: right;\">\n",
       "      <th></th>\n",
       "      <th>Unnamed: 0</th>\n",
       "      <th>interesPlataMuerta</th>\n",
       "      <th>meses</th>\n",
       "      <th>productos</th>\n",
       "      <th>provedores</th>\n",
       "      <th>puertos</th>\n",
       "      <th>costoDespachante</th>\n",
       "      <th>delayEntrega</th>\n",
       "    </tr>\n",
       "  </thead>\n",
       "  <tbody>\n",
       "    <tr>\n",
       "      <th>0</th>\n",
       "      <td>0</td>\n",
       "      <td>0.025</td>\n",
       "      <td>8</td>\n",
       "      <td>12</td>\n",
       "      <td>4</td>\n",
       "      <td>3</td>\n",
       "      <td>1000</td>\n",
       "      <td>3</td>\n",
       "    </tr>\n",
       "  </tbody>\n",
       "</table>\n",
       "</div>"
      ],
      "text/plain": [
       "   Unnamed: 0  interesPlataMuerta  meses  productos  provedores  puertos  \\\n",
       "0           0               0.025      8         12           4        3   \n",
       "\n",
       "   costoDespachante  delayEntrega  \n",
       "0              1000             3  "
      ]
     },
     "execution_count": 391,
     "metadata": {},
     "output_type": "execute_result"
    }
   ],
   "source": [
    "dfGeneral"
   ]
  },
  {
   "cell_type": "code",
   "execution_count": 392,
   "metadata": {},
   "outputs": [
    {
     "data": {
      "text/plain": [
       "0.025"
      ]
     },
     "execution_count": 392,
     "metadata": {},
     "output_type": "execute_result"
    }
   ],
   "source": [
    "dfGeneral[\"interesPlataMuerta\"][0]"
   ]
  },
  {
   "cell_type": "markdown",
   "metadata": {},
   "source": [
    "Nos creamos el conjunto para iterar de cada tipo"
   ]
  },
  {
   "cell_type": "code",
   "execution_count": 393,
   "metadata": {},
   "outputs": [],
   "source": [
    "Meses = list(range(1,int(dfGeneral[\"meses\"] + 1)))\n",
    "Prods = list(range(1,int(dfGeneral[\"productos\"] + 1)))\n",
    "Provs = list(range(1,int(dfGeneral[\"provedores\"] + 1)))\n",
    "Puertos = list(range(1,int(dfGeneral[\"puertos\"] + 1)))"
   ]
  },
  {
   "cell_type": "code",
   "execution_count": 394,
   "metadata": {},
   "outputs": [
    {
     "data": {
      "text/plain": [
       "[1, 2, 3, 4, 5, 6, 7, 8]"
      ]
     },
     "execution_count": 394,
     "metadata": {},
     "output_type": "execute_result"
    }
   ],
   "source": [
    "Meses"
   ]
  },
  {
   "cell_type": "markdown",
   "metadata": {},
   "source": [
    "Definimos el modelo"
   ]
  },
  {
   "cell_type": "code",
   "execution_count": 395,
   "metadata": {},
   "outputs": [],
   "source": [
    "mdl = CpoModel(name=\"modeladoImportacion\")"
   ]
  },
  {
   "cell_type": "markdown",
   "metadata": {},
   "source": [
    "Definimos las variables de costos acumuladas"
   ]
  },
  {
   "cell_type": "code",
   "execution_count": 396,
   "metadata": {},
   "outputs": [],
   "source": [
    "varCostosAcumulados = {}\n",
    "varAduanas = {}\n",
    "varPenalizacionPlataMuerta = {}\n",
    "for m in Meses:\n",
    "    varCostosAcumulados[m] = integer_var(name=\"costosAcum_m\".format(m))\n",
    "    varAduanas[m] = integer_var(name=\"aduanas_m\".format(m))\n",
    "    varPenalizacionPlataMuerta[m] = integer_var(name=\"penalPlata_m\".format(m))"
   ]
  },
  {
   "cell_type": "code",
   "execution_count": 397,
   "metadata": {},
   "outputs": [],
   "source": [
    "mdl.add(varCostosAcumulados[1] == 0) #  El costo inicial el primer mes es 0\n"
   ]
  },
  {
   "cell_type": "markdown",
   "metadata": {},
   "source": [
    "Definimos la funcion objetivo como la minimizacion de los costos acumulados hasta el ultimo mes"
   ]
  },
  {
   "cell_type": "code",
   "execution_count": 398,
   "metadata": {},
   "outputs": [],
   "source": [
    "mdl.minimize(varCostosAcumulados[len(Meses)])"
   ]
  },
  {
   "cell_type": "markdown",
   "metadata": {},
   "source": [
    "Definicion a traves de restriccion de que es el costo acumulado"
   ]
  },
  {
   "cell_type": "code",
   "execution_count": 399,
   "metadata": {},
   "outputs": [],
   "source": [
    "for m in Meses:\n",
    "    if(m>=2):\n",
    "        mdl.add(\n",
    "            varCostosAcumulados[m] >= \n",
    "                varCostosAcumulados[m-1] + \n",
    "                varAduanas[m-1]*dfGeneral[\"costoDespachante\"][0] +\n",
    "                varPenalizacionPlataMuerta[m-1]*dfGeneral[\"interesPlataMuerta\"][0]) \n"
   ]
  },
  {
   "cell_type": "code",
   "execution_count": 400,
   "metadata": {},
   "outputs": [],
   "source": [
    "varStockProdMes = {}\n",
    "for m in Meses:\n",
    "    for i in Prods:\n",
    "        varStockProdMes[(i, m)] = integer_var(name=\"stock_produc_mes\".format(i, m))"
   ]
  },
  {
   "cell_type": "code",
   "execution_count": 401,
   "metadata": {},
   "outputs": [],
   "source": [
    "for m in Meses:\n",
    "    suma = 0\n",
    "    for i in Prods:\n",
    "        suma = suma + (varStockProdMes[(i, m)]- dfproductos[\"demandaMensual\"][i-1]) * dfproductos[\"precioUSD\"][i-1]\n",
    "    mdl.add(\n",
    "        varPenalizacionPlataMuerta[m] >= suma\n",
    "               )"
   ]
  },
  {
   "cell_type": "code",
   "execution_count": 402,
   "metadata": {},
   "outputs": [],
   "source": [
    "# Esta restriccion puede que sea redundante\n",
    "for m in Meses:\n",
    "    for i in Prods:\n",
    "       mdl.add(varStockProdMes[(i, m)] >= dfproductos[\"demandaMensual\"][i-1])"
   ]
  },
  {
   "cell_type": "code",
   "execution_count": 403,
   "metadata": {},
   "outputs": [],
   "source": [
    "deltaProdProvMes = {}\n",
    "cantProdProvMes = {}\n",
    "\n",
    "for m in Meses:\n",
    "    for i in Prods:\n",
    "        for p in Provs:\n",
    "            deltaProdProvMes[(i, p,m)] = binary_var(name=\"delta_prov_produc_mes\".format(i, p, m))\n",
    "            cantProdProvMes[(i, p,m)] = integer_var(name=\"cant_prov_produc_mes\".format(i, p, m))"
   ]
  },
  {
   "cell_type": "code",
   "execution_count": 404,
   "metadata": {},
   "outputs": [],
   "source": [
    "thetaProvMes = {}\n",
    "\n",
    "for m in Meses:\n",
    "        for p in Provs:\n",
    "            thetaProvMes[( p,m)] = binary_var(name=\"theta_prov__mes\".format( p, m))"
   ]
  },
  {
   "cell_type": "code",
   "execution_count": 405,
   "metadata": {},
   "outputs": [],
   "source": [
    "for m in Meses:\n",
    "    for i in Prods:\n",
    "        for p in Provs:\n",
    "            mdl.add(deltaProdProvMes[(i, p,m)] * dfproductos[\"pedidoMinimo\"][i-1] <= cantProdProvMes[(i, p,m)])"
   ]
  },
  {
   "cell_type": "code",
   "execution_count": 406,
   "metadata": {},
   "outputs": [],
   "source": [
    "M = 1000000 # NUNCA SE PIDE MAS DE 1 MILLON DE UN PRODUCTO, y si es que pedis la indicadora es 1\n",
    "for m in Meses:\n",
    "    for i in Prods:\n",
    "        for p in Provs:\n",
    "            mdl.add(deltaProdProvMes[(i, p,m)] * M >= cantProdProvMes[(i, p,m)])"
   ]
  },
  {
   "cell_type": "code",
   "execution_count": 407,
   "metadata": {},
   "outputs": [],
   "source": [
    "for m in Meses:\n",
    "    for p in Provs:\n",
    "        sumaIndicadoras = 0\n",
    "        for i in Prods:\n",
    "            sumaIndicadoras = sumaIndicadoras + deltaProdProvMes[(i, p,m)]\n",
    "        mdl.add(sumaIndicadoras <= M *  thetaProvMes[( p,m)])"
   ]
  },
  {
   "cell_type": "code",
   "execution_count": 408,
   "metadata": {},
   "outputs": [],
   "source": [
    "for m in Meses:\n",
    "    for p in Provs:\n",
    "        sumaIndicadoras2 = 0\n",
    "        for i in Prods:\n",
    "            sumaIndicadoras2 = sumaIndicadoras2 + deltaProdProvMes[(i, p,m)]\n",
    "        mdl.add(sumaIndicadoras2 >=  thetaProvMes[( p,m)])"
   ]
  },
  {
   "cell_type": "code",
   "execution_count": 409,
   "metadata": {},
   "outputs": [],
   "source": [
    "for m in Meses:\n",
    "    for i in Prods:\n",
    "        for p in Provs:\n",
    "            mdl.add(1 - (p - dfproductos[\"provedorID\"][i-1] )/10000 >=  deltaProdProvMes[(i, p,m)])\n",
    "            mdl.add(1 - (dfproductos[\"provedorID\"][i-1] - p)/10000 >=  deltaProdProvMes[(i, p,m)])"
   ]
  },
  {
   "cell_type": "code",
   "execution_count": 410,
   "metadata": {},
   "outputs": [],
   "source": [
    "for m in Meses:\n",
    "    for p in Provs:\n",
    "        sumaAcumulado = 0\n",
    "        for i in Prods:\n",
    "            sumaAcumulado = sumaAcumulado + cantProdProvMes[(i, p,m)]*dfproductos[\"precioUSD\"][i-1]\n",
    "        mdl.add(sumaAcumulado >= dfProvedores[\"minimoMontoPedido\"][p-1] *  thetaProvMes[( p,m)])"
   ]
  },
  {
   "cell_type": "code",
   "execution_count": 411,
   "metadata": {},
   "outputs": [],
   "source": [
    "for i in Prods:\n",
    "    mdl.add(varStockProdMes[(i, 1)] == dfproductos[\"stockInicial\"][i-1])"
   ]
  },
  {
   "cell_type": "code",
   "execution_count": 412,
   "metadata": {},
   "outputs": [],
   "source": [
    "delay = dfGeneral[\"delayEntrega\"][0]\n",
    "for m in range(delay+1, Meses[len(Meses)-1] + 1):\n",
    "    for i in Prods:\n",
    "        sumaCantidad = 0\n",
    "        for p in Provs:\n",
    "            sumaCantidad = sumaCantidad + cantProdProvMes[(i, p,m - delay)]\n",
    "            \n",
    "        mdl.add(varStockProdMes[(i, m)] == varStockProdMes[(i, m-1)] - \n",
    "                                            dfproductos[\"demandaMensual\"][i-1] + \n",
    "                                               sumaCantidad )"
   ]
  },
  {
   "cell_type": "code",
   "execution_count": 413,
   "metadata": {},
   "outputs": [],
   "source": [
    "for m in range(2, delay+1):\n",
    "    for i in Prods:\n",
    "        mdl.add(varStockProdMes[(i, m)] == varStockProdMes[(i, m-1)] - dfproductos[\"demandaMensual\"][i-1])"
   ]
  },
  {
   "cell_type": "code",
   "execution_count": 414,
   "metadata": {},
   "outputs": [],
   "source": [
    "puertPuertoMes = {}\n",
    "\n",
    "for m in Meses:\n",
    "        for k in Puertos:\n",
    "            puertPuertoMes[( k,m)] = binary_var(name=\"puerto__mes\".format( k, m))"
   ]
  },
  {
   "cell_type": "code",
   "execution_count": 415,
   "metadata": {},
   "outputs": [],
   "source": [
    "for m in Meses:\n",
    "    for k in Puertos:\n",
    "        for p in Provs:\n",
    "            if(dfProvedores[\"puertoEnvio\"][p-1] == k):\n",
    "                mdl.add(puertPuertoMes[( k,m)] >= thetaProvMes[( p,m)])"
   ]
  },
  {
   "cell_type": "code",
   "execution_count": 416,
   "metadata": {},
   "outputs": [],
   "source": [
    "for m in Meses:\n",
    "    sumaPuertos = 0\n",
    "    for k in Puertos:\n",
    "        sumaPuertos = sumaPuertos + puertPuertoMes[( k,m)]\n",
    "    mdl.add(varAduanas[m] >= sumaPuertos)"
   ]
  },
  {
   "cell_type": "code",
   "execution_count": 417,
   "metadata": {},
   "outputs": [
    {
     "name": "stdout",
     "output_type": "stream",
     "text": [
      " ! --------------------------------------------------- CP Optimizer 22.1.0.0 --\n",
      " ! Minimization problem - 944 variables, 1880 constraints\n",
      " ! Presolve      : 104 extractables eliminated\n",
      " ! Initial process time : 0.03s (0.03s extraction + 0.00s propagation)\n",
      " !  . Log search space  : 4324.0 (before), 4324.0 (after)\n",
      " !  . Memory usage      : 841.3 kB (before), 841.3 kB (after)\n",
      " ! Using parallel search with 4 workers.\n",
      " ! ----------------------------------------------------------------------------\n",
      " !          Best Branches  Non-fixed    W       Branch decision\n",
      "                        0        944                 -\n",
      " + New bound is 171342\n",
      "                        0        319    1            -\n",
      " + New bound is 174340\n",
      "                        0        319    1   F        -\n",
      " + New bound is 174341\n",
      " *        225716      137  0.17s        1      (gap is 22.76%)\n",
      " *        193171      672  0.17s        1      (gap is 9.75%)\n",
      "          193171     1000          1    1            -\n",
      " *        180136      141  0.17s        2      (gap is 3.22%)\n",
      " *        179533      831  0.17s        2      (gap is 2.89%)\n",
      "          179533     1000          1    2            -\n",
      "          179533     1000          1    3     2233712748 != penalPlata_m\n",
      " *        176731      913  0.17s        4      (gap is 1.35%)\n",
      "          176731     1000          1    4         0  = delta_prov_produc_mes@215\n",
      " *        175525     1305  0.25s        3      (gap is 0.67%)\n",
      "          175525     2000          1    3         0  = delta_prov_produc_mes@380\n",
      " *        174922     1671  0.25s        4      (gap is 0.33%)\n",
      "          174922     3000         27    3   F 40239  = costosAcum_m@2\n",
      "          174922     4000         27    3   F     0 != delta_prov_produc_mes@280\n",
      "          174922     2000          1    4   F     0 != delta_prov_produc_mes@284\n",
      "          174922     1926          1    1            -\n",
      " + New bound is 174905 (gap is 0.01%)\n",
      " ! ----------------------------------------------------------------------------\n",
      " ! Search completed, 7 solutions found.\n",
      " ! Best objective         : 174922 (optimal - effective tol. is 17)\n",
      " ! Best bound             : 174905\n",
      " ! ----------------------------------------------------------------------------\n",
      " ! Number of branches     : 9962\n",
      " ! Number of fails        : 2633\n",
      " ! Total memory usage     : 13.6 MB (13.4 MB CP Optimizer + 0.2 MB Concert)\n",
      " ! Time spent in solve    : 0.34s (0.32s engine + 0.03s extraction)\n",
      " ! Search speed (br. / s) : 32032.2\n",
      " ! ----------------------------------------------------------------------------\n"
     ]
    }
   ],
   "source": [
    "msol = mdl.solve()"
   ]
  },
  {
   "cell_type": "code",
   "execution_count": 418,
   "metadata": {},
   "outputs": [
    {
     "data": {
      "text/plain": [
       "103242"
      ]
     },
     "execution_count": 418,
     "metadata": {},
     "output_type": "execute_result"
    }
   ],
   "source": [
    "msol.get_value(varCostosAcumulados[4])"
   ]
  },
  {
   "cell_type": "code",
   "execution_count": 419,
   "metadata": {},
   "outputs": [
    {
     "data": {
      "text/plain": [
       "254"
      ]
     },
     "execution_count": 419,
     "metadata": {},
     "output_type": "execute_result"
    }
   ],
   "source": [
    "msol.get_value(varStockProdMes[(1,4)])"
   ]
  },
  {
   "cell_type": "code",
   "execution_count": 420,
   "metadata": {},
   "outputs": [
    {
     "data": {
      "text/plain": [
       "1575323"
      ]
     },
     "execution_count": 420,
     "metadata": {},
     "output_type": "execute_result"
    }
   ],
   "source": [
    "msol.get_value(varPenalizacionPlataMuerta[1])"
   ]
  },
  {
   "cell_type": "code",
   "execution_count": 421,
   "metadata": {},
   "outputs": [
    {
     "data": {
      "text/plain": [
       "978941"
      ]
     },
     "execution_count": 421,
     "metadata": {},
     "output_type": "execute_result"
    }
   ],
   "source": [
    "msol.get_value(varPenalizacionPlataMuerta[4])"
   ]
  },
  {
   "cell_type": "code",
   "execution_count": 422,
   "metadata": {},
   "outputs": [
    {
     "data": {
      "text/plain": [
       "1"
      ]
     },
     "execution_count": 422,
     "metadata": {},
     "output_type": "execute_result"
    }
   ],
   "source": [
    "msol.get_value(puertPuertoMes[1,4])"
   ]
  },
  {
   "cell_type": "code",
   "execution_count": 423,
   "metadata": {},
   "outputs": [
    {
     "data": {
      "text/plain": [
       "[386, 353, 320, 287, 254, 221, 188, 155]"
      ]
     },
     "execution_count": 423,
     "metadata": {},
     "output_type": "execute_result"
    }
   ],
   "source": [
    "\n",
    "stock2 = []\n",
    "for m in Meses:\n",
    "    stock2.append(msol.get_value(varStockProdMes[(6,m)]))\n",
    "stock2"
   ]
  },
  {
   "cell_type": "code",
   "execution_count": 424,
   "metadata": {},
   "outputs": [
    {
     "name": "stdout",
     "output_type": "stream",
     "text": [
      "en mes 4al prov 4\n",
      "en mes 5al prov 1\n",
      "en mes 5al prov 3\n"
     ]
    }
   ],
   "source": [
    "cantPedidos = 0\n",
    "for m in Meses:\n",
    "    for p in Provs:\n",
    "        if(msol.get_value(thetaProvMes[( p,m)])==1):\n",
    "            print(\"en mes \"+ str(m) + \"al prov \" + str(p))\n",
    "        cantPedidos = cantPedidos + msol.get_value(thetaProvMes[( p,m)])"
   ]
  }
 ],
 "metadata": {
  "kernelspec": {
   "display_name": "Python 3 (ipykernel)",
   "language": "python",
   "name": "python3"
  },
  "language_info": {
   "codemirror_mode": {
    "name": "ipython",
    "version": 3
   },
   "file_extension": ".py",
   "mimetype": "text/x-python",
   "name": "python",
   "nbconvert_exporter": "python",
   "pygments_lexer": "ipython3",
   "version": "3.9.13"
  }
 },
 "nbformat": 4,
 "nbformat_minor": 2
}
